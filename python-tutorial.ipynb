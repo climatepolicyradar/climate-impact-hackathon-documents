{
 "cells": [
  {
   "cell_type": "markdown",
   "metadata": {},
   "source": [
    "# Using the CPR search API\n",
    "This brief tutorial will show you how to use the CPR Search API. We've provided some helper functions but you should note that these are WIP and there may be bugs or issues that we don't know about. \n",
    "\n",
    "So before we get into the python, lets go through some details of the API itself so you can make queries without them. \n",
    "\n",
    "You can call the API using the requests library like this:"
   ]
  },
  {
   "cell_type": "code",
   "execution_count": 6,
   "metadata": {},
   "outputs": [
    {
     "data": {
      "text/plain": [
       "1370"
      ]
     },
     "execution_count": 6,
     "metadata": {},
     "output_type": "execute_result"
    }
   ],
   "source": [
    "API_HOST = \"https://app.climatepolicyradar.org\"\n",
    "import requests\n",
    "\n",
    "url = f\"{API_HOST}/api/v1/searches\"\n",
    "headers = {\n",
    "    'accept': 'application/json',\n",
    "    'Content-Type': 'application/json'\n",
    "}\n",
    "data = '{\"query_string\": \"Energy Prices\"}'\n",
    "\n",
    "response = requests.post(url, headers=headers, data=data)\n",
    "results = response.json()\n",
    "results['total_family_hits'] # How many families did we find?"
   ]
  },
  {
   "cell_type": "markdown",
   "metadata": {},
   "source": [
    "Nice and easy. Except that you might not be expecting the word \"Families\". This is what we call a collection of documents related to a law or policy. A family has a single main document that is the text of the law or policy, but there may be amendments, official translations, or other documents that we also have in our database for that law/policy. We collect these all as a family, which has potentially many documents under it. \n",
    "\n",
    "You can adjust the search query quite a lot via the API. For example, in the following request, we are searching for documents that contain text similar to \"renewable energy\" from the USA, limiting to 10 hits per document, 5 total results per page, and using our semantic search. If you set exact_match to \"True\", you'd get only text that exactly matches \"renewable energy\". You can find out more about the parameters for the API in the api-docs.md file"
   ]
  },
  {
   "cell_type": "code",
   "execution_count": 7,
   "metadata": {},
   "outputs": [
    {
     "data": {
      "text/plain": [
       "'United States of America. Biennial Reports (BR). BR 1. National Communication (NC). NC 6.'"
      ]
     },
     "execution_count": 7,
     "metadata": {},
     "output_type": "execute_result"
    }
   ],
   "source": [
    "\n",
    "API_HOST = \"https://app.climatepolicyradar.org\"\n",
    "import requests\n",
    "\n",
    "url = f\"{API_HOST}/api/v1/searches\"\n",
    "headers = {\n",
    "    'accept': 'application/json',\n",
    "    'Content-Type': 'application/json'\n",
    "}\n",
    "data = '{\"query_string\": \"renewable energy\", \"exact_match\": \"False\", \"max_passages_per_doc\": 10, \"sort_order\": \"descending\", \"limit\": 5, \"keyword_filters\": {\"countries\": [\"united-states-of-america\"]}}'\n",
    "\n",
    "response = requests.post(url, headers=headers, data=data)\n",
    "results = response.json()\n",
    "results[\"families\"][0][\"family_name\"]"
   ]
  },
  {
   "cell_type": "markdown",
   "metadata": {},
   "source": [
    "We've provided some utility functions for you to make querying the API easier -- although as mentioned before, these are early WIP. Lets have a look at how to use them. You'll have to ensure the CPR SDK python package is installed, using ```pip install cpr_sdk```"
   ]
  },
  {
   "cell_type": "code",
   "execution_count": 8,
   "metadata": {},
   "outputs": [
    {
     "data": {
      "text/markdown": [
       "| Family Title | Geography | PDF URL | Matched Passage |\n",
       "| --- | --- | --- | --- |\n",
       "| United Republic of Tanzania. National Communication (NC). NC 2. | TZA | https://app.climatepolicyradar.org/document/united-republic-of-tanzania-national-communication-nc-nc-2_be66 | · Electricity-Hybrid Electric Vehicles, Electric Vehicles and Efficiency |\n",
       "| United Republic of Tanzania. National Communication (NC). NC 2. | TZA | https://app.climatepolicyradar.org/document/united-republic-of-tanzania-national-communication-nc-nc-2_be66 | vehicle |"
      ],
      "text/plain": [
       "<IPython.core.display.Markdown object>"
      ]
     },
     "metadata": {},
     "output_type": "display_data"
    }
   ],
   "source": [
    "from utils import APISearchAdapter, search_response_to_markdown\n",
    "from cpr_sdk.models.search import SearchParameters\n",
    "from IPython.display import display, Markdown\n",
    "\n",
    "# Create an instance of the APISearchAdapter with the API URL\n",
    "search_adapter = APISearchAdapter(api_url=\"https://app.climatepolicyradar.org\")\n",
    "\n",
    "# Define search parameters\n",
    "search_params = SearchParameters(\n",
    "    query_string=\"electric vehicles\",\n",
    "    limit=1 # We'll keep the limit to 1 so there's not too many results to scroll through\n",
    ")\n",
    "\n",
    "# Perform the search\n",
    "search_response = search_adapter.search(search_params)\n",
    "\n",
    "# Have a look at the results\n",
    "display(Markdown(search_response_to_markdown(search_response)))"
   ]
  },
  {
   "cell_type": "markdown",
   "metadata": {},
   "source": [
    "See how there are two matches of text, but we only asked for a limit of 1? That's because the limit is for the number of families, not the number of search matches within the document text. We treat each separately. \n",
    "\n",
    "We can use Filters this way as well! Lets search for legislative documents from the USA:"
   ]
  },
  {
   "cell_type": "code",
   "execution_count": 9,
   "metadata": {},
   "outputs": [
    {
     "data": {
      "text/markdown": [
       "| Family Title | Geography | PDF URL | Matched Passage |\n",
       "| --- | --- | --- | --- |\n",
       "| Food, Conservation, and Energy Act of 2008 (revised 2014) - Title IX-Renewable Energy Provisions | USA | https://app.climatepolicyradar.org/document/food-conservation-and-energy-act-of-2008-revised-2014-title-ix-renewable-energy-provisions_1709 | \"(13) RENEWABLE ENERGY .- The term 'renewable energy' means energy derived from- |\n",
       "| Food, Conservation, and Energy Act of 2008 (revised 2014) - Title IX-Renewable Energy Provisions | USA | https://app.climatepolicyradar.org/document/food-conservation-and-energy-act-of-2008-revised-2014-title-ix-renewable-energy-provisions_1709 | \"SEC. 1408B. RENEWABLE ENERGY COMMITTEE. |\n",
       "| Food, Conservation, and Energy Act of 2008 (revised 2014) - Title IX-Renewable Energy Provisions | USA | https://app.climatepolicyradar.org/document/food-conservation-and-energy-act-of-2008-revised-2014-title-ix-renewable-energy-provisions_1709 | Sec. 7104. Renewable energy committee. |\n",
       "| Food, Conservation, and Energy Act of 2008 (revised 2014) - Title IX-Renewable Energy Provisions | USA | https://app.climatepolicyradar.org/document/food-conservation-and-energy-act-of-2008-revised-2014-title-ix-renewable-energy-provisions_1709 | SEC. 7104. RENEWABLE ENERGY COMMITTEE. |\n",
       "| Food, Conservation, and Energy Act of 2008 (revised 2014) - Title IX-Renewable Energy Provisions | USA | https://app.climatepolicyradar.org/document/food-conservation-and-energy-act-of-2008-revised-2014-title-ix-renewable-energy-provisions_1709 | \"(iii) agriculture-based renewable energy resources. |\n",
       "| Food, Conservation, and Energy Act of 2008 (revised 2014) - Title IX-Renewable Energy Provisions | USA | https://app.climatepolicyradar.org/document/food-conservation-and-energy-act-of-2008-revised-2014-title-ix-renewable-energy-provisions_1709 | \"(i) renewable energy development and trans- mission; |\n",
       "| Food, Conservation, and Energy Act of 2008 (revised 2014) - Title IX-Renewable Energy Provisions | USA | https://app.climatepolicyradar.org/document/food-conservation-and-energy-act-of-2008-revised-2014-title-ix-renewable-energy-provisions_1709 | SEC. 6108. ELECTRIC LOANS FOR RENEWABLE ENERGY. |\n",
       "| Food, Conservation, and Energy Act of 2008 (revised 2014) - Title IX-Renewable Energy Provisions | USA | https://app.climatepolicyradar.org/document/food-conservation-and-energy-act-of-2008-revised-2014-title-ix-renewable-energy-provisions_1709 | \"(1) improving on-farm renewable energy production; |\n",
       "| Food, Conservation, and Energy Act of 2008 (revised 2014) - Title IX-Renewable Energy Provisions | USA | https://app.climatepolicyradar.org/document/food-conservation-and-energy-act-of-2008-revised-2014-title-ix-renewable-energy-provisions_1709 | \"SEC. 317. ELECTRIC LOANS FOR RENEWABLE ENERGY. |"
      ],
      "text/plain": [
       "<IPython.core.display.Markdown object>"
      ]
     },
     "metadata": {},
     "output_type": "display_data"
    }
   ],
   "source": [
    "from cpr_sdk.models.search import SearchParameters, Filters\n",
    "\n",
    "search_adapter = APISearchAdapter(api_url=\"https://app.climatepolicyradar.org\")\n",
    "\n",
    "# Define search filters\n",
    "filters = Filters(\n",
    "    family_geography=[\"United States of America\"],\n",
    "    family_category=[\"Legislative\"], # Or \"Executive\" or \"UNFCCC\"\n",
    ")\n",
    "\n",
    "search_params = SearchParameters(\n",
    "    query_string=\"renewable energy\",\n",
    "    filters=filters,\n",
    "    limit=1\n",
    ")\n",
    "\n",
    "search_response = search_adapter.search(search_params)\n",
    " \n",
    "display(Markdown(search_response_to_markdown(search_response)))\n"
   ]
  },
  {
   "cell_type": "markdown",
   "metadata": {},
   "source": [
    "\n",
    "There are limits to how many results you can get from our search API. If you need to do anything that requires a lot of requests or doing operations over many documents at once, we recommend you use the downloadable dataset instead. Please be responsible with the amount you call our API!\n",
    "\n",
    "You can use the API to get the next page of family results, or the next page of matches within a document."
   ]
  },
  {
   "cell_type": "code",
   "execution_count": 16,
   "metadata": {},
   "outputs": [
    {
     "data": {
      "text/markdown": [
       "| Family Title | Geography | PDF URL | Matched Passage |\n",
       "| --- | --- | --- | --- |\n",
       "| Climate Change 2022: Mitigation of Climate Change | XAA | https://app.climatepolicyradar.org/document/climate-change-2022-mitigation-of-climate-change_33ea | Taxes/tax relief (including carbon taxes, energy taxes and congestion taxes) |\n",
       "| Climate Change 2022: Mitigation of Climate Change | XAA | https://app.climatepolicyradar.org/document/climate-change-2022-mitigation-of-climate-change_33ea | tax |\n",
       "| Climate Change 2022: Mitigation of Climate Change | XAA | https://app.climatepolicyradar.org/document/climate-change-2022-mitigation-of-climate-change_33ea | Italy. 36 pp. https://www.oecd.org/tax/tax-policy/tax-policy-and-climate- |\n",
       "| Climate Change 2022: Mitigation of Climate Change | XAA | https://app.climatepolicyradar.org/document/climate-change-2022-mitigation-of-climate-change_33ea | Carbon taxes |\n",
       "| Climate Change 2022: Mitigation of Climate Change | XAA | https://app.climatepolicyradar.org/document/climate-change-2022-mitigation-of-climate-change_33ea | Border tax adjustment |\n",
       "| Climate Change 2022: Mitigation of Climate Change | XAA | https://app.climatepolicyradar.org/document/climate-change-2022-mitigation-of-climate-change_33ea | carbon taxes 270 |\n",
       "| Climate Change 2022: Mitigation of Climate Change | XAA | https://app.climatepolicyradar.org/document/climate-change-2022-mitigation-of-climate-change_33ea | carbon taxes 1386 |\n",
       "| Climate Change 2022: Mitigation of Climate Change | XAA | https://app.climatepolicyradar.org/document/climate-change-2022-mitigation-of-climate-change_33ea | carbon taxes 466 |\n",
       "| Climate Change 2022: Mitigation of Climate Change | XAA | https://app.climatepolicyradar.org/document/climate-change-2022-mitigation-of-climate-change_33ea | taxes 1292-1293 |\n",
       "| Climate Change 2022: Mitigation of Climate Change | XAA | https://app.climatepolicyradar.org/document/climate-change-2022-mitigation-of-climate-change_33ea | see also carbon taxes |"
      ],
      "text/plain": [
       "<IPython.core.display.Markdown object>"
      ]
     },
     "metadata": {},
     "output_type": "display_data"
    },
    {
     "data": {
      "text/markdown": [
       "| Family Title | Geography | PDF URL | Matched Passage |\n",
       "| --- | --- | --- | --- |\n",
       "| Carbon Tax Act 15 | ZAF | https://app.climatepolicyradar.org/document/carbon-tax-act-15_0872 | Administration, tax period and payment of tax |\n",
       "| Carbon Tax Act 15 | ZAF | https://app.climatepolicyradar.org/document/carbon-tax-act-15_0872 | Administration, tax period and payment of tax |\n",
       "| Carbon Tax Act 15 | ZAF | https://app.climatepolicyradar.org/document/carbon-tax-act-15_0872 | Tax base |\n",
       "| Carbon Tax Act 15 | ZAF | https://app.climatepolicyradar.org/document/carbon-tax-act-15_0872 | Tax period |\n",
       "| Carbon Tax Act 15 | ZAF | https://app.climatepolicyradar.org/document/carbon-tax-act-15_0872 | Rate of tax |\n",
       "| Carbon Tax Act 15 | ZAF | https://app.climatepolicyradar.org/document/carbon-tax-act-15_0872 | Payment of tax |\n",
       "| Carbon Tax Act 15 | ZAF | https://app.climatepolicyradar.org/document/carbon-tax-act-15_0872 | Payment of tax |\n",
       "| Carbon Tax Act 15 | ZAF | https://app.climatepolicyradar.org/document/carbon-tax-act-15_0872 | 4. Tax base |\n",
       "| Carbon Tax Act 15 | ZAF | https://app.climatepolicyradar.org/document/carbon-tax-act-15_0872 | Administration Tax period |"
      ],
      "text/plain": [
       "<IPython.core.display.Markdown object>"
      ]
     },
     "metadata": {},
     "output_type": "display_data"
    }
   ],
   "source": [
    "# Define search parameters\n",
    "search_params = SearchParameters(\n",
    "    query_string=\"tax\",\n",
    "    limit=1\n",
    ")\n",
    "\n",
    "# Perform the search\n",
    "page_1 = search_adapter.search(search_params)\n",
    "\n",
    "# Have a look at the results\n",
    "display(Markdown(search_response_to_markdown(page_1)))\n",
    "\n",
    "# Get the \"continuation token\" from the search response, which will let us tell the API to give us the next page of results\n",
    "search_params.continuation_tokens = [page_1.continuation_token]\n",
    "page_2 = search_adapter.search(search_params)\n",
    "display(Markdown(search_response_to_markdown(page_2)))"
   ]
  },
  {
   "cell_type": "code",
   "execution_count": 17,
   "metadata": {},
   "outputs": [
    {
     "data": {
      "text/markdown": [
       "| Family Title | Geography | PDF URL | Matched Passage |\n",
       "| --- | --- | --- | --- |\n",
       "| Climate Change 2022: Mitigation of Climate Change | XAA | https://app.climatepolicyradar.org/document/climate-change-2022-mitigation-of-climate-change_33ea | Taxes/tax relief (including carbon taxes, energy taxes and congestion taxes) |\n",
       "| Climate Change 2022: Mitigation of Climate Change | XAA | https://app.climatepolicyradar.org/document/climate-change-2022-mitigation-of-climate-change_33ea | tax |\n",
       "| Climate Change 2022: Mitigation of Climate Change | XAA | https://app.climatepolicyradar.org/document/climate-change-2022-mitigation-of-climate-change_33ea | Italy. 36 pp. https://www.oecd.org/tax/tax-policy/tax-policy-and-climate- |\n",
       "| Climate Change 2022: Mitigation of Climate Change | XAA | https://app.climatepolicyradar.org/document/climate-change-2022-mitigation-of-climate-change_33ea | Carbon taxes |\n",
       "| Climate Change 2022: Mitigation of Climate Change | XAA | https://app.climatepolicyradar.org/document/climate-change-2022-mitigation-of-climate-change_33ea | Border tax adjustment |\n",
       "| Climate Change 2022: Mitigation of Climate Change | XAA | https://app.climatepolicyradar.org/document/climate-change-2022-mitigation-of-climate-change_33ea | carbon taxes 270 |\n",
       "| Climate Change 2022: Mitigation of Climate Change | XAA | https://app.climatepolicyradar.org/document/climate-change-2022-mitigation-of-climate-change_33ea | carbon taxes 1386 |\n",
       "| Climate Change 2022: Mitigation of Climate Change | XAA | https://app.climatepolicyradar.org/document/climate-change-2022-mitigation-of-climate-change_33ea | carbon taxes 466 |\n",
       "| Climate Change 2022: Mitigation of Climate Change | XAA | https://app.climatepolicyradar.org/document/climate-change-2022-mitigation-of-climate-change_33ea | taxes 1292-1293 |\n",
       "| Climate Change 2022: Mitigation of Climate Change | XAA | https://app.climatepolicyradar.org/document/climate-change-2022-mitigation-of-climate-change_33ea | see also carbon taxes |"
      ],
      "text/plain": [
       "<IPython.core.display.Markdown object>"
      ]
     },
     "metadata": {},
     "output_type": "display_data"
    },
    {
     "data": {
      "text/markdown": [
       "| Family Title | Geography | PDF URL | Matched Passage |\n",
       "| --- | --- | --- | --- |\n",
       "| Climate Change 2022: Mitigation of Climate Change | XAA | https://app.climatepolicyradar.org/document/climate-change-2022-mitigation-of-climate-change_33ea | Taxes on food products |\n",
       "| Climate Change 2022: Mitigation of Climate Change | XAA | https://app.climatepolicyradar.org/document/climate-change-2022-mitigation-of-climate-change_33ea | GHG taxes on food |\n",
       "| Climate Change 2022: Mitigation of Climate Change | XAA | https://app.climatepolicyradar.org/document/climate-change-2022-mitigation-of-climate-change_33ea | Taxes on food products |\n",
       "| Climate Change 2022: Mitigation of Climate Change | XAA | https://app.climatepolicyradar.org/document/climate-change-2022-mitigation-of-climate-change_33ea | see also carbon taxes |\n",
       "| Climate Change 2022: Mitigation of Climate Change | XAA | https://app.climatepolicyradar.org/document/climate-change-2022-mitigation-of-climate-change_33ea | Taxes on food products |\n",
       "| Climate Change 2022: Mitigation of Climate Change | XAA | https://app.climatepolicyradar.org/document/climate-change-2022-mitigation-of-climate-change_33ea | Carbon and environmental taxes |\n",
       "| Climate Change 2022: Mitigation of Climate Change | XAA | https://app.climatepolicyradar.org/document/climate-change-2022-mitigation-of-climate-change_33ea | GHG taxes on food |\n",
       "| Climate Change 2022: Mitigation of Climate Change | XAA | https://app.climatepolicyradar.org/document/climate-change-2022-mitigation-of-climate-change_33ea | GHG taxes on food |\n",
       "| Climate Change 2022: Mitigation of Climate Change | XAA | https://app.climatepolicyradar.org/document/climate-change-2022-mitigation-of-climate-change_33ea | carbon taxes 1384, 1385 |\n",
       "| Climate Change 2022: Mitigation of Climate Change | XAA | https://app.climatepolicyradar.org/document/climate-change-2022-mitigation-of-climate-change_33ea | Carbon taxes, GHG emissions trading, fossil fuel taxes, tax credits, grants, renewable energy subsidies, fossil fuel subsidy reductions, offsets, R&D subsidies, loan guarantees |"
      ],
      "text/plain": [
       "<IPython.core.display.Markdown object>"
      ]
     },
     "metadata": {},
     "output_type": "display_data"
    }
   ],
   "source": [
    "# Using continuation tokens to get to more matches for a document\n",
    "# Define search parameters\n",
    "search_params = SearchParameters(\n",
    "    query_string=\"tax\",\n",
    "    limit=1\n",
    ")\n",
    "\n",
    "# Perform the search\n",
    "search_response = search_adapter.search(search_params)\n",
    "\n",
    "# Each family in the search results has a continuation token. This is what tells the API \"more passages from THIS family please\"\n",
    "passage_token = search_response.families[0].continuation_token\n",
    "\n",
    "display(Markdown(search_response_to_markdown(search_response)))\n",
    "\n",
    "# Use the continuation token to redo the search: give it the CURRENT search continuation token and the passage token we got above \n",
    "search_params.continuation_tokens = [search_response.this_continuation_token, passage_token]\n",
    "more_passages_response = search_adapter.search(search_params)\n",
    "\n",
    "display(Markdown(search_response_to_markdown(more_passages_response)))"
   ]
  }
 ],
 "metadata": {
  "kernelspec": {
   "display_name": "Python 3",
   "language": "python",
   "name": "python3"
  },
  "language_info": {
   "codemirror_mode": {
    "name": "ipython",
    "version": 3
   },
   "file_extension": ".py",
   "mimetype": "text/x-python",
   "name": "python",
   "nbconvert_exporter": "python",
   "pygments_lexer": "ipython3",
   "version": "3.11.4"
  }
 },
 "nbformat": 4,
 "nbformat_minor": 2
}
